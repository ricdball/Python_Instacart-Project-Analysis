{
 "cells": [
  {
   "cell_type": "code",
   "execution_count": 1,
   "id": "787202bc-0d2a-4bdc-800e-91972b410dd3",
   "metadata": {},
   "outputs": [],
   "source": [
    "# Import Libraries\n",
    "\n",
    "import pandas as pd\n",
    "import numpy as np\n",
    "import os\n",
    "import matplotlib.pyplot as plt\n",
    "import seaborn as sns\n",
    "import scipy"
   ]
  },
  {
   "cell_type": "markdown",
   "id": "2afc4cd0-b67e-416d-a512-fd2fe71c5f8b",
   "metadata": {},
   "source": [
    "# Import Dataframes (Lesson)"
   ]
  },
  {
   "cell_type": "code",
   "execution_count": 2,
   "id": "0336257c-bce2-4718-8445-b2557fd0be4a",
   "metadata": {},
   "outputs": [],
   "source": [
    "# Path Creation\n",
    "path=r'C:\\Users\\Drew\\Instacart Basket Analysis'"
   ]
  },
  {
   "cell_type": "code",
   "execution_count": 3,
   "id": "40fc179c-24ba-4dfa-a70f-785fcdd3c698",
   "metadata": {},
   "outputs": [],
   "source": [
    "# Import Data\n",
    "ords_prods_merge=pd.read_pickle(os.path.join(path,'02 Data','Prepared Data','orders_products_merge_derived_freq_grouping_agg,pkl'))"
   ]
  },
  {
   "cell_type": "code",
   "execution_count": 5,
   "id": "c393b1e7-932c-479d-a8ae-1152440ffa8a",
   "metadata": {},
   "outputs": [
    {
     "data": {
      "text/plain": [
       "(32404859, 24)"
      ]
     },
     "execution_count": 5,
     "metadata": {},
     "output_type": "execute_result"
    }
   ],
   "source": [
    "ords_prods_merge.shape"
   ]
  },
  {
   "cell_type": "code",
   "execution_count": 6,
   "id": "d30c59cd-98ee-4045-aeac-e521b2abe8da",
   "metadata": {},
   "outputs": [
    {
     "data": {
      "text/html": [
       "<div>\n",
       "<style scoped>\n",
       "    .dataframe tbody tr th:only-of-type {\n",
       "        vertical-align: middle;\n",
       "    }\n",
       "\n",
       "    .dataframe tbody tr th {\n",
       "        vertical-align: top;\n",
       "    }\n",
       "\n",
       "    .dataframe thead th {\n",
       "        text-align: right;\n",
       "    }\n",
       "</style>\n",
       "<table border=\"1\" class=\"dataframe\">\n",
       "  <thead>\n",
       "    <tr style=\"text-align: right;\">\n",
       "      <th></th>\n",
       "      <th>product_id</th>\n",
       "      <th>product_name</th>\n",
       "      <th>aisle_id</th>\n",
       "      <th>department_id</th>\n",
       "      <th>prices</th>\n",
       "      <th>order_id</th>\n",
       "      <th>user_id</th>\n",
       "      <th>order_number</th>\n",
       "      <th>orders_day_of_week</th>\n",
       "      <th>order_hour_of_day</th>\n",
       "      <th>...</th>\n",
       "      <th>price_range_loc</th>\n",
       "      <th>busiest_day</th>\n",
       "      <th>busiest_days</th>\n",
       "      <th>busiest_period_of_day</th>\n",
       "      <th>max_order</th>\n",
       "      <th>loyalty_flag</th>\n",
       "      <th>spending_average</th>\n",
       "      <th>type_of_spender</th>\n",
       "      <th>user_frequency</th>\n",
       "      <th>customer_frequency_type</th>\n",
       "    </tr>\n",
       "  </thead>\n",
       "  <tbody>\n",
       "    <tr>\n",
       "      <th>0</th>\n",
       "      <td>33664</td>\n",
       "      <td>2 % Reduced Fat  Milk</td>\n",
       "      <td>84</td>\n",
       "      <td>16</td>\n",
       "      <td>9.9</td>\n",
       "      <td>183964</td>\n",
       "      <td>873</td>\n",
       "      <td>3</td>\n",
       "      <td>0</td>\n",
       "      <td>10</td>\n",
       "      <td>...</td>\n",
       "      <td>Mid-range product</td>\n",
       "      <td>Busiest day</td>\n",
       "      <td>Busiest days</td>\n",
       "      <td>Most orders</td>\n",
       "      <td>8</td>\n",
       "      <td>New Customer</td>\n",
       "      <td>8.484091</td>\n",
       "      <td>Low Spender</td>\n",
       "      <td>10.0</td>\n",
       "      <td>Frequent Customer</td>\n",
       "    </tr>\n",
       "    <tr>\n",
       "      <th>1</th>\n",
       "      <td>33664</td>\n",
       "      <td>2 % Reduced Fat  Milk</td>\n",
       "      <td>84</td>\n",
       "      <td>16</td>\n",
       "      <td>9.9</td>\n",
       "      <td>1851256</td>\n",
       "      <td>873</td>\n",
       "      <td>4</td>\n",
       "      <td>6</td>\n",
       "      <td>12</td>\n",
       "      <td>...</td>\n",
       "      <td>Mid-range product</td>\n",
       "      <td>Regularly busy</td>\n",
       "      <td>Regularly busy</td>\n",
       "      <td>Most orders</td>\n",
       "      <td>8</td>\n",
       "      <td>New Customer</td>\n",
       "      <td>8.484091</td>\n",
       "      <td>Low Spender</td>\n",
       "      <td>10.0</td>\n",
       "      <td>Frequent Customer</td>\n",
       "    </tr>\n",
       "    <tr>\n",
       "      <th>2</th>\n",
       "      <td>33664</td>\n",
       "      <td>2 % Reduced Fat  Milk</td>\n",
       "      <td>84</td>\n",
       "      <td>16</td>\n",
       "      <td>9.9</td>\n",
       "      <td>1915696</td>\n",
       "      <td>1893</td>\n",
       "      <td>1</td>\n",
       "      <td>5</td>\n",
       "      <td>17</td>\n",
       "      <td>...</td>\n",
       "      <td>Mid-range product</td>\n",
       "      <td>Regularly busy</td>\n",
       "      <td>Regularly busy</td>\n",
       "      <td>Average orders</td>\n",
       "      <td>6</td>\n",
       "      <td>New Customer</td>\n",
       "      <td>6.888525</td>\n",
       "      <td>Low Spender</td>\n",
       "      <td>13.0</td>\n",
       "      <td>Regular Customer</td>\n",
       "    </tr>\n",
       "    <tr>\n",
       "      <th>3</th>\n",
       "      <td>33664</td>\n",
       "      <td>2 % Reduced Fat  Milk</td>\n",
       "      <td>84</td>\n",
       "      <td>16</td>\n",
       "      <td>9.9</td>\n",
       "      <td>2763293</td>\n",
       "      <td>1893</td>\n",
       "      <td>2</td>\n",
       "      <td>4</td>\n",
       "      <td>16</td>\n",
       "      <td>...</td>\n",
       "      <td>Mid-range product</td>\n",
       "      <td>Least busy</td>\n",
       "      <td>Slowest days</td>\n",
       "      <td>Most orders</td>\n",
       "      <td>6</td>\n",
       "      <td>New Customer</td>\n",
       "      <td>6.888525</td>\n",
       "      <td>Low Spender</td>\n",
       "      <td>13.0</td>\n",
       "      <td>Regular Customer</td>\n",
       "    </tr>\n",
       "    <tr>\n",
       "      <th>4</th>\n",
       "      <td>33664</td>\n",
       "      <td>2 % Reduced Fat  Milk</td>\n",
       "      <td>84</td>\n",
       "      <td>16</td>\n",
       "      <td>9.9</td>\n",
       "      <td>2564805</td>\n",
       "      <td>1893</td>\n",
       "      <td>4</td>\n",
       "      <td>1</td>\n",
       "      <td>17</td>\n",
       "      <td>...</td>\n",
       "      <td>Mid-range product</td>\n",
       "      <td>Regularly busy</td>\n",
       "      <td>Busiest days</td>\n",
       "      <td>Average orders</td>\n",
       "      <td>6</td>\n",
       "      <td>New Customer</td>\n",
       "      <td>6.888525</td>\n",
       "      <td>Low Spender</td>\n",
       "      <td>13.0</td>\n",
       "      <td>Regular Customer</td>\n",
       "    </tr>\n",
       "  </tbody>\n",
       "</table>\n",
       "<p>5 rows × 24 columns</p>\n",
       "</div>"
      ],
      "text/plain": [
       "   product_id           product_name  aisle_id  department_id  prices  \\\n",
       "0       33664  2 % Reduced Fat  Milk        84             16     9.9   \n",
       "1       33664  2 % Reduced Fat  Milk        84             16     9.9   \n",
       "2       33664  2 % Reduced Fat  Milk        84             16     9.9   \n",
       "3       33664  2 % Reduced Fat  Milk        84             16     9.9   \n",
       "4       33664  2 % Reduced Fat  Milk        84             16     9.9   \n",
       "\n",
       "   order_id  user_id  order_number  orders_day_of_week  order_hour_of_day  \\\n",
       "0    183964      873             3                   0                 10   \n",
       "1   1851256      873             4                   6                 12   \n",
       "2   1915696     1893             1                   5                 17   \n",
       "3   2763293     1893             2                   4                 16   \n",
       "4   2564805     1893             4                   1                 17   \n",
       "\n",
       "   ...    price_range_loc     busiest_day    busiest_days  \\\n",
       "0  ...  Mid-range product     Busiest day    Busiest days   \n",
       "1  ...  Mid-range product  Regularly busy  Regularly busy   \n",
       "2  ...  Mid-range product  Regularly busy  Regularly busy   \n",
       "3  ...  Mid-range product      Least busy    Slowest days   \n",
       "4  ...  Mid-range product  Regularly busy    Busiest days   \n",
       "\n",
       "  busiest_period_of_day max_order  loyalty_flag spending_average  \\\n",
       "0           Most orders         8  New Customer         8.484091   \n",
       "1           Most orders         8  New Customer         8.484091   \n",
       "2        Average orders         6  New Customer         6.888525   \n",
       "3           Most orders         6  New Customer         6.888525   \n",
       "4        Average orders         6  New Customer         6.888525   \n",
       "\n",
       "  type_of_spender  user_frequency customer_frequency_type  \n",
       "0     Low Spender            10.0       Frequent Customer  \n",
       "1     Low Spender            10.0       Frequent Customer  \n",
       "2     Low Spender            13.0        Regular Customer  \n",
       "3     Low Spender            13.0        Regular Customer  \n",
       "4     Low Spender            13.0        Regular Customer  \n",
       "\n",
       "[5 rows x 24 columns]"
      ]
     },
     "execution_count": 6,
     "metadata": {},
     "output_type": "execute_result"
    }
   ],
   "source": [
    "ords_prods_merge.head()"
   ]
  },
  {
   "cell_type": "markdown",
   "id": "c429d653-debb-48c3-abcd-8c2e17b4d829",
   "metadata": {},
   "source": [
    "# Task 4.9 Part 2"
   ]
  },
  {
   "cell_type": "markdown",
   "id": "a4879435-3f26-424e-8433-a55ff5c0fba8",
   "metadata": {},
   "source": [
    "## 2.Follow the instructions in the Exercise to create a bar chart, a histogram, a scatterplot, and a line chart, using a sample subset for the line chart."
   ]
  },
  {
   "cell_type": "markdown",
   "id": "a7be68da-40ff-4d9a-84f9-6d037b90278c",
   "metadata": {},
   "source": [
    "## Creating Bar Chart\n",
    "###  bar charts organize observations according to some category. That’s why bar charts are good for categorical data"
   ]
  },
  {
   "cell_type": "code",
   "execution_count": 7,
   "id": "ceca3c96-c146-4e81-af18-b3d34aaf1ecb",
   "metadata": {},
   "outputs": [
    {
     "data": {
      "text/plain": [
       "<Axes: xlabel='orders_day_of_week'>"
      ]
     },
     "execution_count": 7,
     "metadata": {},
     "output_type": "execute_result"
    },
    {
     "data": {
      "image/png": "[encoded data removed]",
      "text/plain": [
       "<Figure size 640x480 with 1 Axes>"
      ]
     },
     "metadata": {},
     "output_type": "display_data"
    }
   ],
   "source": [
    "# Creating bar chart using orders_day_of_week'\n",
    "# On the left, you have your basic indexing syntax (the name of the column between brackets attached to the name of the dataframe)\n",
    "# after the dot comes the function you want to execute—in this case, value_counts(). \n",
    "# So far, the command is the same as it would be if you were printing the frequency of the column\n",
    "# plot.bar(). This tells Python to find the bar() function within the plot module, and it’s what actually creates your bar chart. \n",
    "# Ensure to run the frequency of the column in question rather than directly on the column itself otherwise it will take a very long time to create chart.\n",
    "ords_prods_merge['orders_day_of_week'].value_counts().plot.bar()"
   ]
  },
  {
   "cell_type": "markdown",
   "id": "8c369a53-328c-4e24-8740-55cb4edef561",
   "metadata": {},
   "source": [
    "## Sorting Bar Chart"
   ]
  },
  {
   "cell_type": "code",
   "execution_count": 8,
   "id": "2420e519-740a-4f1f-b408-44d989c20575",
   "metadata": {},
   "outputs": [
    {
     "data": {
      "text/plain": [
       "<Axes: xlabel='orders_day_of_week'>"
      ]
     },
     "execution_count": 8,
     "metadata": {},
     "output_type": "execute_result"
    },
    {
     "data": {
      "image/png": "[encoded data removed]",
      "text/plain": [
       "<Figure size 640x480 with 1 Axes>"
      ]
     },
     "metadata": {},
     "output_type": "display_data"
    }
   ],
   "source": [
    "# Sorting bart chart\n",
    "# sort_index() function will sort the bars in your chart according to their index order (rather than largest to smallest).\n",
    "ords_prods_merge['orders_day_of_week'].value_counts().sort_index().plot.bar()"
   ]
  },
  {
   "cell_type": "code",
   "execution_count": 9,
   "id": "996d32b8-ca5e-4f81-9b0a-04ebb29c5ec7",
   "metadata": {},
   "outputs": [
    {
     "data": {
      "text/plain": [
       "orders_day_of_week\n",
       "0    6204182\n",
       "1    5660230\n",
       "6    4496490\n",
       "2    4213830\n",
       "5    4205791\n",
       "3    3840534\n",
       "4    3783802\n",
       "Name: count, dtype: int64"
      ]
     },
     "execution_count": 9,
     "metadata": {},
     "output_type": "execute_result"
    }
   ],
   "source": [
    "ords_prods_merge['orders_day_of_week'].value_counts()"
   ]
  },
  {
   "cell_type": "code",
   "execution_count": 10,
   "id": "7d9d6276-5256-470e-900c-bc27a7545b54",
   "metadata": {},
   "outputs": [
    {
     "data": {
      "text/plain": [
       "orders_day_of_week\n",
       "0    6204182\n",
       "1    5660230\n",
       "2    4213830\n",
       "3    3840534\n",
       "4    3783802\n",
       "5    4205791\n",
       "6    4496490\n",
       "Name: count, dtype: int64"
      ]
     },
     "execution_count": 10,
     "metadata": {},
     "output_type": "execute_result"
    }
   ],
   "source": [
    "ords_prods_merge['orders_day_of_week'].value_counts().sort_index()"
   ]
  },
  {
   "cell_type": "code",
   "execution_count": 11,
   "id": "5267be62-afec-4758-ae9b-16923e2e1d8d",
   "metadata": {},
   "outputs": [
    {
     "data": {
      "image/png": "[encoded data removed]",
      "text/plain": [
       "<Figure size 640x480 with 1 Axes>"
      ]
     },
     "metadata": {},
     "output_type": "display_data"
    }
   ],
   "source": [
    "# Adding color to the bar chart\n",
    "# include an indexed list of the colors you want for your bars as an argument in your function.\n",
    "bar=ords_prods_merge['orders_day_of_week'].value_counts().plot.bar(color=['purple','red','pink','orange','yellow','green'],)"
   ]
  },
  {
   "cell_type": "markdown",
   "id": "dc2c874d-4d3f-42b8-aff5-c06d0d4b6574",
   "metadata": {},
   "source": [
    "## Creating Histograms"
   ]
  },
  {
   "cell_type": "code",
   "execution_count": 12,
   "id": "b39f0fec-589b-4e92-b913-a946ba2d3568",
   "metadata": {},
   "outputs": [
    {
     "data": {
      "image/png": "[encoded data removed]",
      "text/plain": [
       "<Figure size 640x480 with 1 Axes>"
      ]
     },
     "metadata": {},
     "output_type": "display_data"
    }
   ],
   "source": [
    "# an extra argument that needs to go within the parentheses. This is how you determine the granularity of the histogram\n",
    "# smaller number of bins equates to denser bars, while a larger number of bins equates to sparser bars\n",
    "hist=ords_prods_merge['prices'].plot.hist(bins=25)"
   ]
  },
  {
   "cell_type": "code",
   "execution_count": 13,
   "id": "3f2b38ab-c9ae-4a33-811c-2de6dad0dfcf",
   "metadata": {},
   "outputs": [
    {
     "data": {
      "text/plain": [
       "count    3.240486e+07\n",
       "mean     7.790180e+00\n",
       "std      4.242122e+00\n",
       "min      1.000000e+00\n",
       "25%      4.200000e+00\n",
       "50%      7.400000e+00\n",
       "75%      1.130000e+01\n",
       "max      2.500000e+01\n",
       "Name: prices, dtype: float64"
      ]
     },
     "execution_count": 13,
     "metadata": {},
     "output_type": "execute_result"
    }
   ],
   "source": [
    "ords_prods_merge['prices'].describe()"
   ]
  },
  {
   "cell_type": "code",
   "execution_count": 14,
   "id": "3c092a9b-b69d-40d2-ac85-3cc83d70b403",
   "metadata": {},
   "outputs": [
    {
     "data": {
      "image/png": "[encoded data removed]",
      "text/plain": [
       "<Figure size 640x480 with 1 Axes>"
      ]
     },
     "metadata": {},
     "output_type": "display_data"
    }
   ],
   "source": [
    "hist_2=ords_prods_merge['prices'].plot.hist(bins=70)"
   ]
  },
  {
   "cell_type": "markdown",
   "id": "1416ed59-2c3b-4c36-b1c1-8e4db5586dbf",
   "metadata": {},
   "source": [
    "## Creating Scatterplot"
   ]
  },
  {
   "cell_type": "code",
   "execution_count": 15,
   "id": "3d5e4164-054f-45a9-814d-253501944c97",
   "metadata": {},
   "outputs": [
    {
     "data": {
      "image/png": "[encoded data removed]",
      "text/plain": [
       "<Figure size 640x480 with 1 Axes>"
      ]
     },
     "metadata": {},
     "output_type": "display_data"
    }
   ],
   "source": [
    "# creating scatterplot\n",
    "# Scatterplots are created by way of the scatterplot() function, which is included in the seaborn library\n",
    "# Within the parentheses, you include arguments in the form of axes. \n",
    "scatplot=sns.scatterplot(x = 'prices', y = 'prices',data = ords_prods_merge)"
   ]
  },
  {
   "cell_type": "code",
   "execution_count": 16,
   "id": "6e2c4475-5fef-42b5-aeef-df4cae3a1546",
   "metadata": {},
   "outputs": [
    {
     "data": {
      "text/html": [
       "<div>\n",
       "<style scoped>\n",
       "    .dataframe tbody tr th:only-of-type {\n",
       "        vertical-align: middle;\n",
       "    }\n",
       "\n",
       "    .dataframe tbody tr th {\n",
       "        vertical-align: top;\n",
       "    }\n",
       "\n",
       "    .dataframe thead th {\n",
       "        text-align: right;\n",
       "    }\n",
       "</style>\n",
       "<table border=\"1\" class=\"dataframe\">\n",
       "  <thead>\n",
       "    <tr style=\"text-align: right;\">\n",
       "      <th></th>\n",
       "      <th>product_id</th>\n",
       "      <th>product_name</th>\n",
       "      <th>aisle_id</th>\n",
       "      <th>department_id</th>\n",
       "      <th>prices</th>\n",
       "      <th>order_id</th>\n",
       "      <th>user_id</th>\n",
       "      <th>order_number</th>\n",
       "      <th>orders_day_of_week</th>\n",
       "      <th>order_hour_of_day</th>\n",
       "      <th>...</th>\n",
       "      <th>price_range_loc</th>\n",
       "      <th>busiest_day</th>\n",
       "      <th>busiest_days</th>\n",
       "      <th>busiest_period_of_day</th>\n",
       "      <th>max_order</th>\n",
       "      <th>loyalty_flag</th>\n",
       "      <th>spending_average</th>\n",
       "      <th>type_of_spender</th>\n",
       "      <th>user_frequency</th>\n",
       "      <th>customer_frequency_type</th>\n",
       "    </tr>\n",
       "  </thead>\n",
       "  <tbody>\n",
       "  </tbody>\n",
       "</table>\n",
       "<p>0 rows × 24 columns</p>\n",
       "</div>"
      ],
      "text/plain": [
       "Empty DataFrame\n",
       "Columns: [product_id, product_name, aisle_id, department_id, prices, order_id, user_id, order_number, orders_day_of_week, order_hour_of_day, days_since_prior_order, add_to_cart_order, reordered, _merge, price_range_loc, busiest_day, busiest_days, busiest_period_of_day, max_order, loyalty_flag, spending_average, type_of_spender, user_frequency, customer_frequency_type]\n",
       "Index: []\n",
       "\n",
       "[0 rows x 24 columns]"
      ]
     },
     "execution_count": 16,
     "metadata": {},
     "output_type": "execute_result"
    }
   ],
   "source": [
    "# Finding outlying prices over 100\n",
    "ords_prods_merge.loc[ords_prods_merge['prices']>100]"
   ]
  },
  {
   "cell_type": "code",
   "execution_count": 17,
   "id": "c4a2444f-22bb-448f-91f4-cb448e4eb2fd",
   "metadata": {},
   "outputs": [],
   "source": [
    "# Removing outliers over 100, if any showed\n",
    "# np.nan. This is a function from the NumPy library; it’s used to assign missing values\n",
    "# np.nan tells python to change any value over 100 to a nan value.\n",
    "ords_prods_merge.loc[ords_prods_merge['prices']>100,'prices']=np.nan"
   ]
  },
  {
   "cell_type": "code",
   "execution_count": 18,
   "id": "fd8524ba-26ea-4eb7-ba60-efb3ac751c49",
   "metadata": {},
   "outputs": [
    {
     "data": {
      "text/plain": [
       "25.0"
      ]
     },
     "execution_count": 18,
     "metadata": {},
     "output_type": "execute_result"
    }
   ],
   "source": [
    "ords_prods_merge['prices'].max()"
   ]
  },
  {
   "cell_type": "markdown",
   "id": "c303272d-cd6c-492f-b672-dc97ea12e204",
   "metadata": {},
   "source": [
    "## Creating Line Charts"
   ]
  },
  {
   "cell_type": "code",
   "execution_count": null,
   "id": "72723483-cf27-4a3f-82e5-efdd47b50869",
   "metadata": {},
   "outputs": [],
   "source": [
    "line=sns.lineplot(data=ords_prods_merge,x='orders_day_of_week',y='prices')"
   ]
  },
  {
   "cell_type": "markdown",
   "id": "8cf5051f-90f2-4c36-8e7a-575f2f30139b",
   "metadata": {},
   "source": [
    "### Sampling Data for line chart"
   ]
  },
  {
   "cell_type": "code",
   "execution_count": null,
   "id": "189c8a58-7770-4a5f-9221-a58256e8c0d1",
   "metadata": {},
   "outputs": [],
   "source": [
    "# first line of the command, you set the “seed.” \n",
    "# This “seed” represents a random but reproducible pattern—Python will always give you the same set of random numbers (in this case, seed “4”)\n",
    "# seed is set via the NumPy function random.seed()\n",
    "# the second line of the command, you create a new list called dev. This will be what stores your boolean values for values less than or equal to 0.7\n",
    "np.random.seed(4)\n",
    "dev=np.random.rand(len(ords_prods_merge))<=0.7"
   ]
  },
  {
   "cell_type": "code",
   "execution_count": null,
   "id": "78b38d76-dea8-4d5e-aeb2-b6bc65cc8a41",
   "metadata": {},
   "outputs": [],
   "source": [
    "# Will take 70% of entire ords_prods_merge dataframe for sample size\n",
    "big=ords_prods_merge[dev]"
   ]
  },
  {
   "cell_type": "code",
   "execution_count": null,
   "id": "fb8cd937-9eec-4e10-9b69-782184fb6327",
   "metadata": {},
   "outputs": [],
   "source": [
    "# will take 30% of entire ords_prods_merge dataframe for smaple size\n",
    "# tilde you see in the second line negates the argument, in other words, it stores everything that’s not dev, or False.\n",
    "small=ords_prods_merge[~dev]"
   ]
  },
  {
   "cell_type": "code",
   "execution_count": null,
   "id": "ee3c6b6e-d09c-4842-a462-40dbb43bfdf7",
   "metadata": {},
   "outputs": [],
   "source": [
    "len(big)+len(small)"
   ]
  },
  {
   "cell_type": "code",
   "execution_count": null,
   "id": "3436e057-4386-4403-be0a-b372f55365bb",
   "metadata": {},
   "outputs": [],
   "source": [
    "ords_prods_merge_2=small[['orders_day_of_week','prices']]"
   ]
  },
  {
   "cell_type": "code",
   "execution_count": null,
   "id": "a5f6afdb-f3a8-4935-80b4-437eca219ace",
   "metadata": {},
   "outputs": [],
   "source": [
    "ords_prods_merge_3=big[['orders_day_of_week','prices']]"
   ]
  },
  {
   "cell_type": "code",
   "execution_count": null,
   "id": "1999b5e0-80f5-4e5d-b8d9-0a8324f1951f",
   "metadata": {},
   "outputs": [],
   "source": [
    "line_2=sns.lineplot(data=ords_prods_merge_2,x='orders_day_of_week',y='prices')"
   ]
  },
  {
   "cell_type": "code",
   "execution_count": null,
   "id": "71ad6634-b6c3-4f55-b271-a8399405ee73",
   "metadata": {},
   "outputs": [],
   "source": [
    "line_3=sns.lineplot(data=ords_prods_merge_3,x='orders_day_of_week',y='prices')"
   ]
  },
  {
   "cell_type": "markdown",
   "id": "19b6621a-b1fb-4bee-85d2-0b6adf24a9af",
   "metadata": {},
   "source": [
    "## Exporting Charts From Lesson"
   ]
  },
  {
   "cell_type": "code",
   "execution_count": null,
   "id": "3af4eefa-99e9-47a8-8351-b210c98ccf40",
   "metadata": {},
   "outputs": [],
   "source": [
    "# Using the saved bar object above\n",
    "# chart has been saved within the bar object, and you’ll be able to access it any time you like by calling bar.figure\n",
    "# to export it outside of Jupyter in the form of an image file. This can be done via the figure.savefig() function\n",
    "# command accesses the figure within the bar object and applies the savefig() function to it\n",
    "# Within the parentheses, you should see some familiar syntax—it’s pointing to a location on your computer in which to save your new file\n",
    "bar.figure.savefig(os.path.join(path,'04 Analysis','Visualizations','bar_orders_dow.png'))"
   ]
  },
  {
   "cell_type": "code",
   "execution_count": null,
   "id": "8530d26b-1283-4c9e-bf26-254c62f941e6",
   "metadata": {},
   "outputs": [],
   "source": [
    "# Exporting histogram 1 25 bins\n",
    "hist.figure.savefig(os.path.join(path,'04 Analysis','Visualizations','hist_prices_25_bin.png'))"
   ]
  },
  {
   "cell_type": "code",
   "execution_count": null,
   "id": "d355dc56-6f4d-44c2-b2d4-58055c8feb86",
   "metadata": {},
   "outputs": [],
   "source": [
    "# Exporting histogram 2 70 bins\n",
    "hist_2.figure.savefig(os.path.join(path,'04 Analysis','Visualizations','hist_2_prices_70_bin.png'))"
   ]
  },
  {
   "cell_type": "code",
   "execution_count": null,
   "id": "001c8c3a-235f-43b3-9591-50457d5a0cb3",
   "metadata": {},
   "outputs": [],
   "source": [
    "# Exporting Scatterplot\n",
    "scatplot.figure.savefig(os.path.join(path,'04 Analysis','Visualizations','scatplot_prices.png'))"
   ]
  },
  {
   "cell_type": "code",
   "execution_count": null,
   "id": "43165e2c-f78c-4222-bbad-9327aa023da3",
   "metadata": {},
   "outputs": [],
   "source": [
    "# Export Line Graph Entire Dataframe\n",
    "line.figure.savefig(os.path.join(path,'04 Analysis','Visualizations','line_entire_df.png'))"
   ]
  },
  {
   "cell_type": "code",
   "execution_count": null,
   "id": "028b7074-5c1e-48cd-a45d-2258e24d39ba",
   "metadata": {},
   "outputs": [],
   "source": [
    "# Export line graph of 30% dataframe sample size of random generation\n",
    "line_2.figure.savefig(os.path.join(path,'04 Analysis','Visualizations','line_2_df_30_percent.png'))"
   ]
  },
  {
   "cell_type": "code",
   "execution_count": null,
   "id": "402dca09-7b80-49d5-ac03-ae752ce5c5e3",
   "metadata": {},
   "outputs": [],
   "source": [
    "# Export line graph of 70% dataframe sample size of random generation\n",
    "line_3.figure.savefig(os.path.join(path,'04 Analysis','Visualizations','line_3_df_70_percent.png'))"
   ]
  },
  {
   "cell_type": "markdown",
   "id": "95807388-d9f3-45be-bc1a-ba75565295b5",
   "metadata": {},
   "source": [
    "# Task 4.9 (Questions 3-8)"
   ]
  },
  {
   "cell_type": "markdown",
   "id": "9b1ba10b-4ae9-443a-8120-0bec922be823",
   "metadata": {},
   "source": [
    "## Import Data"
   ]
  },
  {
   "cell_type": "code",
   "execution_count": null,
   "id": "799cf20d-b781-41fa-a491-157590d22ad2",
   "metadata": {},
   "outputs": [],
   "source": [
    "## Import Dataframe with Customers merge\n",
    "ords_prods_cust_merge=pd.read_pickle(os.path.join(path,'02 Data','Prepared Data','orders_products_customers_merge.pkl'))"
   ]
  },
  {
   "cell_type": "code",
   "execution_count": null,
   "id": "48fe39cf-1493-4248-badd-f37136a32490",
   "metadata": {},
   "outputs": [],
   "source": [
    "ords_prods_cust_merge.shape"
   ]
  },
  {
   "cell_type": "code",
   "execution_count": null,
   "id": "5f396903-c8ac-412d-9452-701110eadab7",
   "metadata": {},
   "outputs": [],
   "source": [
    "# Ensuring import of dataframe\n",
    "ords_prods_cust_merge.head()"
   ]
  },
  {
   "cell_type": "markdown",
   "id": "14648efe-2d8f-4c0b-980a-226b7df3925f",
   "metadata": {},
   "source": [
    "## 3.You need to provide the Instacart senior stakeholders with descriptive findings about sales. Create a histogram of the “order_hour_of_day” column. In a markdown cell beneath your histogram, describe what the histogram demonstrates."
   ]
  },
  {
   "cell_type": "code",
   "execution_count": null,
   "id": "bfa86296-f0a1-4425-a2eb-da57b556a02a",
   "metadata": {},
   "outputs": [],
   "source": [
    "# Creating histogram for column 'order_hour_of_day' using 24 for bins as 24 hours in a day\n",
    "hist_hod=ords_prods_cust_merge['order_hour_of_day'].plot.hist(bins=24)"
   ]
  },
  {
   "cell_type": "markdown",
   "id": "c3bdd9e3-aca3-4073-979f-3cd2a657d2d5",
   "metadata": {},
   "source": [
    "### From the above histogram, we can see the peak order timeframe. Peak orders revolve between 10AM to around 3pm. \n",
    "### Orders see a start in activity with increases starting at 6am and a start in declines after the 3pm peak (so we could say from 4pm).\n",
    "### We can see the slow activity hours from midnight to 5AM and what appears to be after 8pm.\n",
    "### Overview: Peak hours are from late morning to mid-afternoon with a decline in order frequency beginning in late afternoon and proceeding throughout the evening. The slowest order frequency is early morning until they begin to pick up around 6am."
   ]
  },
  {
   "cell_type": "markdown",
   "id": "ab5da2f2-6e8a-442d-b6e2-9f9c3801f0d5",
   "metadata": {},
   "source": [
    "## 4.Marketing team is curious about the distribution of orders among customers in terms of loyalty. Create a bar chart from the “loyalty_flag” column."
   ]
  },
  {
   "cell_type": "code",
   "execution_count": null,
   "id": "5531ed47-a432-44a7-bfb1-567c5d9040dd",
   "metadata": {},
   "outputs": [],
   "source": [
    "# Creating bar chart from loyalty_flag column\n",
    "bar_loyalty_flag=ords_prods_cust_merge['loyalty_flag'].value_counts().plot.bar(color=['green','blue','red'])"
   ]
  },
  {
   "cell_type": "markdown",
   "id": "517fdcd7-8d18-43eb-8079-b180ab1037c6",
   "metadata": {},
   "source": [
    "## 5.Check whether there’s a difference in expenditure (the “prices” column) depending on the hour of the day. (Hint: To check this, you need to use an accurate sample for your line chart!)\n"
   ]
  },
  {
   "cell_type": "code",
   "execution_count": null,
   "id": "268c4899-677d-48b4-b31c-afdcdb204698",
   "metadata": {},
   "outputs": [],
   "source": [
    "# Creating seed for random sample \n",
    "np.random.seed(4)"
   ]
  },
  {
   "cell_type": "code",
   "execution_count": null,
   "id": "37fccbea-0afc-4fc2-8866-9aaa59e7af81",
   "metadata": {},
   "outputs": [],
   "source": [
    "# Creating dev function for values less than or equal to 70% of entire dataframe for a 70/30 split.\n",
    "dev=np.random.rand(len(ords_prods_cust_merge))<=0.7"
   ]
  },
  {
   "cell_type": "code",
   "execution_count": null,
   "id": "de1e3fa5-5db6-4e45-8c78-16149366c3db",
   "metadata": {},
   "outputs": [],
   "source": [
    "# Setting subset for 70% of entire ords_prods_cust_merge dataframe for sample size\n",
    "big=ords_prods_cust_merge[dev]"
   ]
  },
  {
   "cell_type": "code",
   "execution_count": null,
   "id": "c05ab0d5-67b7-455a-afa8-6417f19c87a6",
   "metadata": {},
   "outputs": [],
   "source": [
    "# Setting subset for 30% of entire ords_prods_cust_merge dataframe for sample size\n",
    "small=ords_prods_cust_merge[~dev]"
   ]
  },
  {
   "cell_type": "code",
   "execution_count": null,
   "id": "a23f15ed-9cd9-406a-9c53-4dbe266ba86b",
   "metadata": {},
   "outputs": [],
   "source": [
    "len(big)+len(small)"
   ]
  },
  {
   "cell_type": "code",
   "execution_count": null,
   "id": "6d3589b6-c293-4a26-99a9-ff3fff3d04f7",
   "metadata": {},
   "outputs": [],
   "source": [
    "# Creating subset for only those needed columns before creating line chart for create 'small' sample size\n",
    "prices_hod_line=small[['order_hour_of_day','prices']]"
   ]
  },
  {
   "cell_type": "code",
   "execution_count": null,
   "id": "315b64ef-68ba-4056-97d9-8407adbdb77b",
   "metadata": {},
   "outputs": [],
   "source": [
    "# Creating second subset for only those needed columns before line chart for created 'big' sample size\n",
    "prices_hod_line_2=big[['order_hour_of_day','prices']]"
   ]
  },
  {
   "cell_type": "code",
   "execution_count": null,
   "id": "df75f9e0-43d5-4757-b579-62e1ff60a0bc",
   "metadata": {},
   "outputs": [],
   "source": [
    "# Creating line chart based on 'small' subset via prices_hod_line\n",
    "prices_hod_line_30=sns.lineplot(data=prices_hod_line,x='order_hour_of_day',y='prices')"
   ]
  },
  {
   "cell_type": "code",
   "execution_count": null,
   "id": "526ed44e-87a5-4766-aeae-7091c99d7328",
   "metadata": {},
   "outputs": [],
   "source": [
    "prices_hod_line_70=sns.lineplot(data=prices_hod_line_2,x='order_hour_of_day',y='prices')"
   ]
  },
  {
   "cell_type": "code",
   "execution_count": null,
   "id": "dcf6142c-595f-4914-8066-3d4533250153",
   "metadata": {},
   "outputs": [],
   "source": [
    "line_whole=sns.lineplot(data=ords_prods_cust_merge,x='order_hour_of_day',y='prices')"
   ]
  },
  {
   "cell_type": "markdown",
   "id": "3ba1b15f-d443-4bfb-8035-c2b1a678b8ab",
   "metadata": {},
   "source": [
    "## 6.Conduct some exploratory analysis of customer demographics to inform the targeted marketing campaigns. First, determine whether there’s a connection between age and family situation by creating a line chart exploring the connections between age and number of dependents. In a markdown cell beneath your line chart, describe what the line chart shows."
   ]
  },
  {
   "cell_type": "code",
   "execution_count": null,
   "id": "04edb2b6-94a4-4ea1-89ad-40284f191127",
   "metadata": {},
   "outputs": [],
   "source": [
    "# Creating subset for only those needed columns before creating line chart for create 'small' sample size\n",
    "age_num_dependants=small[['age','num_of_dependants']]"
   ]
  },
  {
   "cell_type": "code",
   "execution_count": null,
   "id": "6256ec6c-90c2-461e-8182-0dbd5adfa7e2",
   "metadata": {},
   "outputs": [],
   "source": [
    "# Creating subset for only those needed columns before creating line chart for create 'big' sample size\n",
    "age_num_dependants_2=big[['age','num_of_dependants']]"
   ]
  },
  {
   "cell_type": "code",
   "execution_count": null,
   "id": "3e15c443-313c-4315-8c9e-f3b16138e592",
   "metadata": {},
   "outputs": [],
   "source": [
    "age_dependants_line_30=sns.lineplot(data=age_num_dependants,x='age',y='num_of_dependants')"
   ]
  },
  {
   "cell_type": "code",
   "execution_count": null,
   "id": "cf681e22-b469-45ba-bb02-d1d5068eb375",
   "metadata": {},
   "outputs": [],
   "source": [
    "age_dependants_line_70=sns.lineplot(data=age_num_dependants_2,x='age',y='num_of_dependants')"
   ]
  },
  {
   "cell_type": "code",
   "execution_count": null,
   "id": "b9f8b7b0-fc13-41b5-a645-9df144204f8b",
   "metadata": {},
   "outputs": [],
   "source": [
    "age_dependants_line_whole=sns.lineplot(data=ords_prods_cust_merge,x='age',y='num_of_dependants')"
   ]
  },
  {
   "cell_type": "markdown",
   "id": "022e8e0d-9d27-443d-a81c-7a3d5670a02c",
   "metadata": {},
   "source": [
    "### The above graphs show a high variable relationship between age and number of dependants and graps have large fluctuations throughout.\n",
    "### Because of the constant fluctuating trends, there is no clear trend between age and number of dependants.\n",
    "### There are occasional spikes in around early 20s, early 60s, and late 60s.\n",
    "### On the opposite, there are several decreasing spikes around mid 20s, late 50s, around mid 60s, and late 70s.\n",
    "### Reasons for the variability could be researched to see if demographics or socio-economic factors contribute to these spikes.\n",
    "### Further investigation could see if spikes in younger and older age ranges are a result due to young children or elderly dependants for certain households."
   ]
  },
  {
   "cell_type": "markdown",
   "id": "1876136e-8859-4502-82e6-16a986dcb99f",
   "metadata": {},
   "source": [
    "## 7.Explore whether there’s a connection between age and spending power (income). To visualize this relationship, create a scatterplot. In a markdown cell beneath your scatterplot, describe what the scatterplot shows.  "
   ]
  },
  {
   "cell_type": "code",
   "execution_count": null,
   "id": "be86ca40-4226-41ab-bbf0-cb19b6edb62f",
   "metadata": {},
   "outputs": [],
   "source": [
    "# Creating scatterplot between age and income\n",
    "age_income_scatterplot=sns.scatterplot(x='age',y='income',data=ords_prods_cust_merge)"
   ]
  },
  {
   "cell_type": "markdown",
   "id": "e63b95eb-180a-4710-871c-e752e45e47f7",
   "metadata": {},
   "source": [
    "### The scatterplot does not appear to show any clear linear relationship between age and income as the data points are quite spread  without any real consistency towards clear increasing or decreasing patterns.\n",
    "### We can see that after the age of 40, incomes are beginning to see an increase for certain customers compared to those between the ages of 20 to 40.\n",
    "### Due to the higher income found for certain customers over the age of 40, the incomes for the age group groups over 40 do appear to have a greater distribution for incomes over 400000. \n",
    "### We can see that the incomes equal to or less than 200000 are must more dense than those over 200000 which appear to be more sparsely distributed and scattered than lower incomes.  \n",
    "### Summary: The scatterplot shows a varying range of income amongst customer ages with a higher concentration of density of incomes equal to or less than 200000. There is no clear linear relationship between age and income so income can be said to be variable amongst the ages. Finally, higher income(over 200000) is less dense and more spread out than lower income with some customers after the age of 40 showing to have the highest and most spread income over 400000."
   ]
  },
  {
   "cell_type": "markdown",
   "id": "364a44d4-db5f-4449-8d14-7d284aaf04f1",
   "metadata": {},
   "source": [
    "## Export Visualizations"
   ]
  },
  {
   "cell_type": "code",
   "execution_count": null,
   "id": "2dae1d2f-50ec-4567-8b61-e4e729ad674e",
   "metadata": {},
   "outputs": [],
   "source": [
    "# Exporting Histogram\n",
    "hist_hod.figure.savefig(os.path.join(path,'04 Analysis','Visualizations','hist_order_hour_of_day.png'))"
   ]
  },
  {
   "cell_type": "code",
   "execution_count": null,
   "id": "7f70cdbc-7454-4a08-b30b-df2bdd795a93",
   "metadata": {},
   "outputs": [],
   "source": [
    "# Exporting Loyalty Flag Bar Chart \n",
    "bar_loyalty_flag.figure.savefig(os.path.join(path,'04 Analysis','Visualizations','bar_loyalty_flag.png'))"
   ]
  },
  {
   "cell_type": "code",
   "execution_count": null,
   "id": "12e915ad-8492-4edb-98fc-7f1ca5f9f462",
   "metadata": {},
   "outputs": [],
   "source": [
    "# Exporting Line Chart for small subset of 30% Dataframe for prices by order_hour_of_day chart\n",
    "prices_hod_line_30.figure.savefig(os.path.join(path,'04 Analysis','Visualizations','prices_hod_line_30.png'))"
   ]
  },
  {
   "cell_type": "code",
   "execution_count": null,
   "id": "f8f0f25b-0e43-4987-950e-18cba4da628d",
   "metadata": {},
   "outputs": [],
   "source": [
    "# Exporting Line Chart for big subset of 70% Dataframe for prices by order_hour_of_day chart\n",
    "prices_hod_line_70.figure.savefig(os.path.join(path,'04 Analysis','Visualizations','prices_hod_line_70.png'))"
   ]
  },
  {
   "cell_type": "code",
   "execution_count": null,
   "id": "85dea6ea-7c8d-4a5f-a8dd-b1daff9e44f6",
   "metadata": {},
   "outputs": [],
   "source": [
    "# Exporting Line Chart for whole Dataframe for prices by order_hour_of_day chart\n",
    "line_whole.figure.savefig(os.path.join(path,'04 Analysis','Visualizations','prices_hod_line_whole.png'))"
   ]
  },
  {
   "cell_type": "code",
   "execution_count": null,
   "id": "0ca590c0-3f44-418e-9c4a-172455903730",
   "metadata": {},
   "outputs": [],
   "source": [
    "# Exporting Line Chart for small subset of 30% Dataframe for age by num_of_dependants chart\n",
    "age_dependants_line_30.figure.savefig(os.path.join(path,'04 Analysis','Visualizations','age_dependants_line_30.png'))"
   ]
  },
  {
   "cell_type": "code",
   "execution_count": null,
   "id": "e0b71944-3947-471c-b83c-6863dd460694",
   "metadata": {},
   "outputs": [],
   "source": [
    "# Exporting Line Chart for big subset of 70% Dataframe for age by num_of_dependants chart\n",
    "age_dependants_line_70.figure.savefig(os.path.join(path,'04 Analysis','Visualizations','age_dependants_line_70.png'))"
   ]
  },
  {
   "cell_type": "code",
   "execution_count": null,
   "id": "943026e7-2170-41e1-88a6-097869e654f8",
   "metadata": {},
   "outputs": [],
   "source": [
    "# Exporting Line Chart of whole Dataframe for age by num_of_dependants chart\n",
    "age_dependants_line_whole.figure.savefig(os.path.join(path,'04 Analysis','Visualizations','age_dependants_line_whole.png'))"
   ]
  },
  {
   "cell_type": "code",
   "execution_count": null,
   "id": "88e2178e-eb39-4fac-8e7f-d8a7137a0175",
   "metadata": {},
   "outputs": [],
   "source": [
    "# Exporting scatterplot of age and income of whole dataframe\n",
    "age_income_scatterplot.figure.savefig(os.path.join(path,'04 Analysis','Visualizations','age_income_scatterplot_whole.png'))"
   ]
  },
  {
   "cell_type": "code",
   "execution_count": null,
   "id": "a6db906f-8e07-42c1-bcd3-2f606808a65f",
   "metadata": {},
   "outputs": [],
   "source": []
  }
 ],
 "metadata": {
  "kernelspec": {
   "display_name": "Python 3 (ipykernel)",
   "language": "python",
   "name": "python3"
  },
  "language_info": {
   "codemirror_mode": {
    "name": "ipython",
    "version": 3
   },
   "file_extension": ".py",
   "mimetype": "text/x-python",
   "name": "python",
   "nbconvert_exporter": "python",
   "pygments_lexer": "ipython3",
   "version": "3.11.7"
  }
 },
 "nbformat": 4,
 "nbformat_minor": 5
}
