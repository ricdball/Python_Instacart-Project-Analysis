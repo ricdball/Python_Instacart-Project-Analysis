{
 "cells": [
  {
   "cell_type": "markdown",
   "id": "f5bb4d1a-f97f-4913-b4e4-41d8ce70b579",
   "metadata": {},
   "source": [
    "# Merge and Export Data"
   ]
  },
  {
   "cell_type": "markdown",
   "id": "fc7068d9-0d4c-4229-89c9-b7ae5b2774d7",
   "metadata": {},
   "source": [
    "## 1. Importing Data\n",
    "## 2. Checking Data for merging\n",
    "## 3. Merging df_ords and df_ords_prior to create df_merged_large\n",
    "## 4. Export new df_merged_large as pkl"
   ]
  },
  {
   "cell_type": "code",
   "execution_count": 76,
   "id": "351f0c8d-2267-4490-a631-4d9175da1c90",
   "metadata": {},
   "outputs": [],
   "source": [
    "# Import Libraries\n",
    "import pandas as pd\n",
    "import numpy as np\n",
    "import os"
   ]
  },
  {
   "cell_type": "markdown",
   "id": "dc90eb61-3d63-4a7b-862a-56876b18c250",
   "metadata": {},
   "source": [
    "# Importing Data"
   ]
  },
  {
   "cell_type": "code",
   "execution_count": 77,
   "id": "12b9f644-c118-4037-9af8-3817a3095958",
   "metadata": {},
   "outputs": [],
   "source": [
    "# Path Creation\n",
    "path=r'C:\\Users\\Drew\\Instacart Basket Analysis'"
   ]
  },
  {
   "cell_type": "code",
   "execution_count": 78,
   "id": "ecb5f179-b9c5-4b39-80c9-0657c0fafdb1",
   "metadata": {},
   "outputs": [],
   "source": [
    "# Orders Data\n",
    "df_ords=pd.read_csv(os.path.join(path,'02 Data','Original Data','orders.csv'),index_col=False)"
   ]
  },
  {
   "cell_type": "code",
   "execution_count": 79,
   "id": "4afc17f0-aa0f-4304-9bbd-0c8dac4d2680",
   "metadata": {},
   "outputs": [],
   "source": [
    "# Products Data\n",
    "df_prods=pd.read_csv(os.path.join(path,'02 Data','Original Data','products.csv'),index_col=False)"
   ]
  },
  {
   "cell_type": "code",
   "execution_count": 80,
   "id": "75b73a8b-aad6-45d9-a1d9-79fbf7a8a6e9",
   "metadata": {},
   "outputs": [],
   "source": [
    "# Departments Data\n",
    "df_dep=pd.read_csv(os.path.join(path,'02 Data','Original Data','departments.csv'),index_col=False)"
   ]
  },
  {
   "cell_type": "code",
   "execution_count": 81,
   "id": "2e6e5d24-e1e8-46b3-850c-3e057f1c4a75",
   "metadata": {},
   "outputs": [],
   "source": [
    "# Orders_Products_Prior Data\n",
    "df_ords_prior=pd.read_csv(os.path.join(path,'02 Data','Original Data','orders_products_prior.csv'),index_col=False)"
   ]
  },
  {
   "cell_type": "markdown",
   "id": "058645fc-f37d-45f8-95db-acfe739fefb8",
   "metadata": {},
   "source": [
    "# Comparing and Checking Dataframes for Merging"
   ]
  },
  {
   "cell_type": "markdown",
   "id": "7a6d7c94-b99f-405c-a5d1-8300406cfa0d",
   "metadata": {},
   "source": [
    "## Comparing df_ords and df_prods columns to see if any similar"
   ]
  },
  {
   "cell_type": "code",
   "execution_count": 82,
   "id": "3e5f0aae-5d93-4cac-a293-f4fec3f512be",
   "metadata": {},
   "outputs": [
    {
     "name": "stdout",
     "output_type": "stream",
     "text": [
      "['order_id', 'user_id', 'eval_set', 'order_number', 'order_dow', 'order_hour_of_day', 'days_since_prior_order']\n"
     ]
    }
   ],
   "source": [
    "print(list(df_ords.columns))"
   ]
  },
  {
   "cell_type": "code",
   "execution_count": 83,
   "id": "976c3fd1-44be-40eb-98a9-b5882454e20e",
   "metadata": {},
   "outputs": [
    {
     "name": "stdout",
     "output_type": "stream",
     "text": [
      "['product_id', 'product_name', 'aisle_id', 'department_id', 'prices']\n"
     ]
    }
   ],
   "source": [
    "print(list(df_prods.columns))"
   ]
  },
  {
   "cell_type": "markdown",
   "id": "66b22217-84ce-40bf-93a9-ec4275ee6965",
   "metadata": {},
   "source": [
    "## No similar columns found. \n",
    "## Will combine df_ords with new dataframe called orders_products_prior.\n",
    "## orders_products_prior contains a \"product_id\" column by adding product_id to df_ords to have similar column in both df_ords and df_prods"
   ]
  },
  {
   "cell_type": "code",
   "execution_count": 84,
   "id": "7e380dbd-bc2c-4f10-82c2-d6eb7ae25354",
   "metadata": {},
   "outputs": [
    {
     "data": {
      "text/plain": [
       "(32434489, 4)"
      ]
     },
     "execution_count": 84,
     "metadata": {},
     "output_type": "execute_result"
    }
   ],
   "source": [
    "# Checking new df_ords_prior dataframe added above\n",
    "df_ords_prior.shape"
   ]
  },
  {
   "cell_type": "code",
   "execution_count": 85,
   "id": "a1e8b67a-f4a2-4995-9b0c-6261d3ca5b85",
   "metadata": {},
   "outputs": [
    {
     "data": {
      "text/html": [
       "<div>\n",
       "<style scoped>\n",
       "    .dataframe tbody tr th:only-of-type {\n",
       "        vertical-align: middle;\n",
       "    }\n",
       "\n",
       "    .dataframe tbody tr th {\n",
       "        vertical-align: top;\n",
       "    }\n",
       "\n",
       "    .dataframe thead th {\n",
       "        text-align: right;\n",
       "    }\n",
       "</style>\n",
       "<table border=\"1\" class=\"dataframe\">\n",
       "  <thead>\n",
       "    <tr style=\"text-align: right;\">\n",
       "      <th></th>\n",
       "      <th>order_id</th>\n",
       "      <th>product_id</th>\n",
       "      <th>add_to_cart_order</th>\n",
       "      <th>reordered</th>\n",
       "    </tr>\n",
       "  </thead>\n",
       "  <tbody>\n",
       "    <tr>\n",
       "      <th>0</th>\n",
       "      <td>2</td>\n",
       "      <td>33120</td>\n",
       "      <td>1</td>\n",
       "      <td>1</td>\n",
       "    </tr>\n",
       "    <tr>\n",
       "      <th>1</th>\n",
       "      <td>2</td>\n",
       "      <td>28985</td>\n",
       "      <td>2</td>\n",
       "      <td>1</td>\n",
       "    </tr>\n",
       "    <tr>\n",
       "      <th>2</th>\n",
       "      <td>2</td>\n",
       "      <td>9327</td>\n",
       "      <td>3</td>\n",
       "      <td>0</td>\n",
       "    </tr>\n",
       "    <tr>\n",
       "      <th>3</th>\n",
       "      <td>2</td>\n",
       "      <td>45918</td>\n",
       "      <td>4</td>\n",
       "      <td>1</td>\n",
       "    </tr>\n",
       "    <tr>\n",
       "      <th>4</th>\n",
       "      <td>2</td>\n",
       "      <td>30035</td>\n",
       "      <td>5</td>\n",
       "      <td>0</td>\n",
       "    </tr>\n",
       "  </tbody>\n",
       "</table>\n",
       "</div>"
      ],
      "text/plain": [
       "   order_id  product_id  add_to_cart_order  reordered\n",
       "0         2       33120                  1          1\n",
       "1         2       28985                  2          1\n",
       "2         2        9327                  3          0\n",
       "3         2       45918                  4          1\n",
       "4         2       30035                  5          0"
      ]
     },
     "execution_count": 85,
     "metadata": {},
     "output_type": "execute_result"
    }
   ],
   "source": [
    "df_ords_prior.head()"
   ]
  },
  {
   "cell_type": "code",
   "execution_count": 97,
   "id": "2917ffb3-dfeb-476e-9819-34e4e169471e",
   "metadata": {},
   "outputs": [
    {
     "data": {
      "text/html": [
       "<div>\n",
       "<style scoped>\n",
       "    .dataframe tbody tr th:only-of-type {\n",
       "        vertical-align: middle;\n",
       "    }\n",
       "\n",
       "    .dataframe tbody tr th {\n",
       "        vertical-align: top;\n",
       "    }\n",
       "\n",
       "    .dataframe thead th {\n",
       "        text-align: right;\n",
       "    }\n",
       "</style>\n",
       "<table border=\"1\" class=\"dataframe\">\n",
       "  <thead>\n",
       "    <tr style=\"text-align: right;\">\n",
       "      <th></th>\n",
       "      <th>order_id</th>\n",
       "      <th>user_id</th>\n",
       "      <th>order_number</th>\n",
       "      <th>orders_day_of_week</th>\n",
       "      <th>order_hour_of_day</th>\n",
       "      <th>days_since_prior_order</th>\n",
       "    </tr>\n",
       "  </thead>\n",
       "  <tbody>\n",
       "    <tr>\n",
       "      <th>0</th>\n",
       "      <td>2539329</td>\n",
       "      <td>1</td>\n",
       "      <td>1</td>\n",
       "      <td>2</td>\n",
       "      <td>8</td>\n",
       "      <td>NaN</td>\n",
       "    </tr>\n",
       "    <tr>\n",
       "      <th>1</th>\n",
       "      <td>2398795</td>\n",
       "      <td>1</td>\n",
       "      <td>2</td>\n",
       "      <td>3</td>\n",
       "      <td>7</td>\n",
       "      <td>15.0</td>\n",
       "    </tr>\n",
       "    <tr>\n",
       "      <th>2</th>\n",
       "      <td>473747</td>\n",
       "      <td>1</td>\n",
       "      <td>3</td>\n",
       "      <td>3</td>\n",
       "      <td>12</td>\n",
       "      <td>21.0</td>\n",
       "    </tr>\n",
       "    <tr>\n",
       "      <th>3</th>\n",
       "      <td>2254736</td>\n",
       "      <td>1</td>\n",
       "      <td>4</td>\n",
       "      <td>4</td>\n",
       "      <td>7</td>\n",
       "      <td>29.0</td>\n",
       "    </tr>\n",
       "    <tr>\n",
       "      <th>4</th>\n",
       "      <td>431534</td>\n",
       "      <td>1</td>\n",
       "      <td>5</td>\n",
       "      <td>4</td>\n",
       "      <td>15</td>\n",
       "      <td>28.0</td>\n",
       "    </tr>\n",
       "  </tbody>\n",
       "</table>\n",
       "</div>"
      ],
      "text/plain": [
       "   order_id  user_id  order_number  orders_day_of_week  order_hour_of_day  \\\n",
       "0   2539329        1             1                   2                  8   \n",
       "1   2398795        1             2                   3                  7   \n",
       "2    473747        1             3                   3                 12   \n",
       "3   2254736        1             4                   4                  7   \n",
       "4    431534        1             5                   4                 15   \n",
       "\n",
       "   days_since_prior_order  \n",
       "0                     NaN  \n",
       "1                    15.0  \n",
       "2                    21.0  \n",
       "3                    29.0  \n",
       "4                    28.0  "
      ]
     },
     "execution_count": 97,
     "metadata": {},
     "output_type": "execute_result"
    }
   ],
   "source": [
    "df_ords.head()"
   ]
  },
  {
   "cell_type": "code",
   "execution_count": 98,
   "id": "6129a602-d1a7-46a1-8c1d-4197c5c90c50",
   "metadata": {},
   "outputs": [
    {
     "data": {
      "text/plain": [
       "(3421083, 6)"
      ]
     },
     "execution_count": 98,
     "metadata": {},
     "output_type": "execute_result"
    }
   ],
   "source": [
    "df_ords.shape"
   ]
  },
  {
   "cell_type": "code",
   "execution_count": 88,
   "id": "8a1212f8-faed-45e1-8556-590f0bd9feaf",
   "metadata": {},
   "outputs": [],
   "source": [
    "# Renaming columns to match column header in lesson example\n",
    "df_ords.rename(columns={'order_dow':'orders_day_of_week'},inplace=True)"
   ]
  },
  {
   "cell_type": "code",
   "execution_count": 89,
   "id": "16b4c060-bbee-4554-ba1e-f76c06316c50",
   "metadata": {},
   "outputs": [],
   "source": [
    "# Dropping eval_set column\n",
    "df_ords=df_ords.drop(columns=['eval_set'])"
   ]
  },
  {
   "cell_type": "markdown",
   "id": "9d643378-aa84-49b8-8a41-6566ca3dc42c",
   "metadata": {},
   "source": [
    "## Merging dataframes df_ords and df_ords_prior"
   ]
  },
  {
   "cell_type": "code",
   "execution_count": 90,
   "id": "c946976c-389a-4444-aa41-75803e69c25e",
   "metadata": {},
   "outputs": [],
   "source": [
    "# Merging dataframes df_ords and df_ords_prior\n",
    "# Uses default inner join means that the resulting table will only contain observations found in both dataframes. As such, the merge flag here will only show entries that have a value of “both.”\n",
    "# create a new dataframe, df_merged_large, that contains the combined df_ords and df_ords_prior dataframes and uses the “order_id” column as its key.\n",
    "# includes the indicator = True argument so that you can check for a full match.\n",
    "df_merged_large=df_ords.merge(df_ords_prior,on='order_id',indicator=True)"
   ]
  },
  {
   "cell_type": "code",
   "execution_count": 91,
   "id": "9b719e21-341c-461f-8d50-29ba0a83c920",
   "metadata": {},
   "outputs": [
    {
     "data": {
      "text/html": [
       "<div>\n",
       "<style scoped>\n",
       "    .dataframe tbody tr th:only-of-type {\n",
       "        vertical-align: middle;\n",
       "    }\n",
       "\n",
       "    .dataframe tbody tr th {\n",
       "        vertical-align: top;\n",
       "    }\n",
       "\n",
       "    .dataframe thead th {\n",
       "        text-align: right;\n",
       "    }\n",
       "</style>\n",
       "<table border=\"1\" class=\"dataframe\">\n",
       "  <thead>\n",
       "    <tr style=\"text-align: right;\">\n",
       "      <th></th>\n",
       "      <th>order_id</th>\n",
       "      <th>user_id</th>\n",
       "      <th>order_number</th>\n",
       "      <th>orders_day_of_week</th>\n",
       "      <th>order_hour_of_day</th>\n",
       "      <th>days_since_prior_order</th>\n",
       "      <th>product_id</th>\n",
       "      <th>add_to_cart_order</th>\n",
       "      <th>reordered</th>\n",
       "      <th>_merge</th>\n",
       "    </tr>\n",
       "  </thead>\n",
       "  <tbody>\n",
       "    <tr>\n",
       "      <th>0</th>\n",
       "      <td>2539329</td>\n",
       "      <td>1</td>\n",
       "      <td>1</td>\n",
       "      <td>2</td>\n",
       "      <td>8</td>\n",
       "      <td>NaN</td>\n",
       "      <td>196</td>\n",
       "      <td>1</td>\n",
       "      <td>0</td>\n",
       "      <td>both</td>\n",
       "    </tr>\n",
       "    <tr>\n",
       "      <th>1</th>\n",
       "      <td>2539329</td>\n",
       "      <td>1</td>\n",
       "      <td>1</td>\n",
       "      <td>2</td>\n",
       "      <td>8</td>\n",
       "      <td>NaN</td>\n",
       "      <td>14084</td>\n",
       "      <td>2</td>\n",
       "      <td>0</td>\n",
       "      <td>both</td>\n",
       "    </tr>\n",
       "    <tr>\n",
       "      <th>2</th>\n",
       "      <td>2539329</td>\n",
       "      <td>1</td>\n",
       "      <td>1</td>\n",
       "      <td>2</td>\n",
       "      <td>8</td>\n",
       "      <td>NaN</td>\n",
       "      <td>12427</td>\n",
       "      <td>3</td>\n",
       "      <td>0</td>\n",
       "      <td>both</td>\n",
       "    </tr>\n",
       "    <tr>\n",
       "      <th>3</th>\n",
       "      <td>2539329</td>\n",
       "      <td>1</td>\n",
       "      <td>1</td>\n",
       "      <td>2</td>\n",
       "      <td>8</td>\n",
       "      <td>NaN</td>\n",
       "      <td>26088</td>\n",
       "      <td>4</td>\n",
       "      <td>0</td>\n",
       "      <td>both</td>\n",
       "    </tr>\n",
       "    <tr>\n",
       "      <th>4</th>\n",
       "      <td>2539329</td>\n",
       "      <td>1</td>\n",
       "      <td>1</td>\n",
       "      <td>2</td>\n",
       "      <td>8</td>\n",
       "      <td>NaN</td>\n",
       "      <td>26405</td>\n",
       "      <td>5</td>\n",
       "      <td>0</td>\n",
       "      <td>both</td>\n",
       "    </tr>\n",
       "  </tbody>\n",
       "</table>\n",
       "</div>"
      ],
      "text/plain": [
       "   order_id  user_id  order_number  orders_day_of_week  order_hour_of_day  \\\n",
       "0   2539329        1             1                   2                  8   \n",
       "1   2539329        1             1                   2                  8   \n",
       "2   2539329        1             1                   2                  8   \n",
       "3   2539329        1             1                   2                  8   \n",
       "4   2539329        1             1                   2                  8   \n",
       "\n",
       "   days_since_prior_order  product_id  add_to_cart_order  reordered _merge  \n",
       "0                     NaN         196                  1          0   both  \n",
       "1                     NaN       14084                  2          0   both  \n",
       "2                     NaN       12427                  3          0   both  \n",
       "3                     NaN       26088                  4          0   both  \n",
       "4                     NaN       26405                  5          0   both  "
      ]
     },
     "execution_count": 91,
     "metadata": {},
     "output_type": "execute_result"
    }
   ],
   "source": [
    "# Checking new df_merged_large\n",
    "df_merged_large.head()"
   ]
  },
  {
   "cell_type": "code",
   "execution_count": 102,
   "id": "a76e1ba9-2444-4649-af01-062397f12b7f",
   "metadata": {},
   "outputs": [
    {
     "data": {
      "text/plain": [
       "(32434489, 10)"
      ]
     },
     "execution_count": 102,
     "metadata": {},
     "output_type": "execute_result"
    }
   ],
   "source": [
    "df_merged_large.shape"
   ]
  },
  {
   "cell_type": "code",
   "execution_count": 92,
   "id": "058b4331-c3d9-4900-af97-0ce395462b0a",
   "metadata": {},
   "outputs": [
    {
     "data": {
      "text/plain": [
       "_merge\n",
       "both          32434489\n",
       "left_only            0\n",
       "right_only           0\n",
       "Name: count, dtype: int64"
      ]
     },
     "execution_count": 92,
     "metadata": {},
     "output_type": "execute_result"
    }
   ],
   "source": [
    "# Checking merged dataframe value_count\n",
    "# Using the value_counts() function lets you quickly sum up all the values in the “_merge” column, letting you see whether you have a full match or not.\n",
    "df_merged_large['_merge'].value_counts()"
   ]
  },
  {
   "cell_type": "code",
   "execution_count": 93,
   "id": "7df308bd-3822-400c-8676-8e13a9e4c553",
   "metadata": {},
   "outputs": [],
   "source": [
    "# Using outer join in code.\n",
    "df_merged_large_2=df_ords.merge(df_ords_prior,on='order_id',how='outer',indicator=True)"
   ]
  },
  {
   "cell_type": "code",
   "execution_count": 94,
   "id": "2b10ab56-6985-434b-b392-29a2fae91c36",
   "metadata": {},
   "outputs": [
    {
     "data": {
      "text/plain": [
       "_merge\n",
       "both          32434489\n",
       "left_only       206209\n",
       "right_only           0\n",
       "Name: count, dtype: int64"
      ]
     },
     "execution_count": 94,
     "metadata": {},
     "output_type": "execute_result"
    }
   ],
   "source": [
    "# using this method to double-check your merge, you can see that you don’t actually have a full match. \n",
    "df_merged_large_2['_merge'].value_counts()"
   ]
  },
  {
   "cell_type": "markdown",
   "id": "b2977977-6e65-4274-89fc-fc991d3ebbfb",
   "metadata": {},
   "source": [
    "# Exporting Data in Pickle Format"
   ]
  },
  {
   "cell_type": "code",
   "execution_count": 99,
   "id": "2f0aa45b-0ed0-4f5e-a40d-c318d952e49c",
   "metadata": {},
   "outputs": [],
   "source": [
    "# Export df_merge_large to csv\n",
    "df_merged_large.to_csv(os.path.join(path,'02 Data','Prepared Data','orders_products_combined.csv'))"
   ]
  },
  {
   "cell_type": "code",
   "execution_count": 100,
   "id": "f25e407b-ab8c-4a0d-8422-96b7ed091c23",
   "metadata": {},
   "outputs": [],
   "source": [
    "# Export df_merge_large to pkl\n",
    "# Importing pickle files also follows a similar syntax to its “.csv”\n",
    "#  only difference comes in the function (read_pickle()) and the lack of an index_col, since pickle-format files include this information already.\n",
    "df_merged_large.to_pickle(os.path.join(path,'02 Data','Prepared Data','orders_products_combined.pkl'))"
   ]
  },
  {
   "cell_type": "code",
   "execution_count": null,
   "id": "9aa0f561-1372-44fe-aeee-e373ed739a9f",
   "metadata": {},
   "outputs": [],
   "source": []
  }
 ],
 "metadata": {
  "kernelspec": {
   "display_name": "Python 3 (ipykernel)",
   "language": "python",
   "name": "python3"
  },
  "language_info": {
   "codemirror_mode": {
    "name": "ipython",
    "version": 3
   },
   "file_extension": ".py",
   "mimetype": "text/x-python",
   "name": "python",
   "nbconvert_exporter": "python",
   "pygments_lexer": "ipython3",
   "version": "3.11.7"
  }
 },
 "nbformat": 4,
 "nbformat_minor": 5
}
