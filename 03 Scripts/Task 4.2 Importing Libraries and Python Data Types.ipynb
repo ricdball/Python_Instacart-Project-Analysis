{
 "cells": [
  {
   "cell_type": "code",
   "execution_count": null,
   "id": "f7ea3f12-d39a-41d6-9d5c-0e70ec36eaa3",
   "metadata": {},
   "outputs": [],
   "source": [
    "# 4.2 Importing Libraries"
   ]
  },
  {
   "cell_type": "code",
   "execution_count": 5,
   "id": "831ce9e7-b379-4694-a769-0db68bc6f0e8",
   "metadata": {},
   "outputs": [],
   "source": [
    "# Import libraries\n",
    "import pandas as pd\n",
    "import numpy as np\n",
    "import os"
   ]
  },
  {
   "cell_type": "markdown",
   "id": "2237bbde-deed-45cf-af7d-ebd89134f206",
   "metadata": {},
   "source": [
    "# 4.2 Working With Python Data Types"
   ]
  },
  {
   "cell_type": "markdown",
   "id": "c8f032ed-8a5d-40f6-a002-ac46861293a8",
   "metadata": {},
   "source": [
    "## Code Three Different Ways of Reaching a Result of 100"
   ]
  },
  {
   "cell_type": "code",
   "execution_count": 7,
   "id": "fc778682-ea29-42b2-98b0-1919868c8113",
   "metadata": {},
   "outputs": [
    {
     "name": "stdout",
     "output_type": "stream",
     "text": [
      "100\n"
     ]
    }
   ],
   "source": [
    "# Method 1\n",
    "x=40\n",
    "y=60\n",
    "print(x+y)\n"
   ]
  },
  {
   "cell_type": "code",
   "execution_count": 9,
   "id": "8e0ce5d7-db3a-458a-adef-ad6bba320d4a",
   "metadata": {},
   "outputs": [
    {
     "name": "stdout",
     "output_type": "stream",
     "text": [
      "100\n"
     ]
    }
   ],
   "source": [
    "# Method 2\n",
    "x=200\n",
    "y=100\n",
    "print(x-y)"
   ]
  },
  {
   "cell_type": "code",
   "execution_count": 10,
   "id": "425eec87-3add-4346-91bf-ca0d89980661",
   "metadata": {},
   "outputs": [],
   "source": [
    "# Method 3"
   ]
  },
  {
   "cell_type": "code",
   "execution_count": 11,
   "id": "e7d33580-3fb6-4dca-aac8-4a382e4525ac",
   "metadata": {},
   "outputs": [
    {
     "name": "stdout",
     "output_type": "stream",
     "text": [
      "100\n"
     ]
    }
   ],
   "source": [
    "x=25\n",
    "y=4\n",
    "print(x*y)"
   ]
  },
  {
   "cell_type": "markdown",
   "id": "ddc4405f-ad7a-4929-ac24-4cd32d889133",
   "metadata": {},
   "source": [
    "## Code Two Floating-Point Variables and Divide them by Each Other"
   ]
  },
  {
   "cell_type": "code",
   "execution_count": 14,
   "id": "9f79f1ad-6b9b-4b0b-aa25-4fa95ba38ebf",
   "metadata": {},
   "outputs": [
    {
     "name": "stdout",
     "output_type": "stream",
     "text": [
      "2.5975975975975976\n"
     ]
    }
   ],
   "source": [
    "x=3.33\n",
    "y=8.65\n",
    "print(y/x)"
   ]
  },
  {
   "cell_type": "code",
   "execution_count": 16,
   "id": "df08415e-6777-445e-b9cf-63da77590020",
   "metadata": {},
   "outputs": [
    {
     "name": "stdout",
     "output_type": "stream",
     "text": [
      "0.2756756756756757\n"
     ]
    }
   ],
   "source": [
    "x=4.59\n",
    "y=16.65\n",
    "print(x/y)"
   ]
  },
  {
   "cell_type": "markdown",
   "id": "927cab7c-65fb-45be-9f0a-1d44067edcb8",
   "metadata": {},
   "source": [
    "## Construct a Short Word Made of Separate Strings"
   ]
  },
  {
   "cell_type": "code",
   "execution_count": 18,
   "id": "8877a342-153e-4901-9793-9a046a477175",
   "metadata": {},
   "outputs": [
    {
     "data": {
      "text/plain": [
       "'Cookie Monster'"
      ]
     },
     "execution_count": 18,
     "metadata": {},
     "output_type": "execute_result"
    }
   ],
   "source": [
    "a='Cookie '\n",
    "b='Monster'\n",
    "a+b"
   ]
  },
  {
   "cell_type": "markdown",
   "id": "c0f08fd1-6538-4e32-b2c8-4356e98e4530",
   "metadata": {},
   "source": [
    "## Construct Two Short Sentences Made of Separate Strings"
   ]
  },
  {
   "cell_type": "code",
   "execution_count": 21,
   "id": "0a0ef530-c468-4cf2-b7c4-ddbdba409848",
   "metadata": {},
   "outputs": [
    {
     "data": {
      "text/plain": [
       "'I thought of Cookie Monster while eating a sugar cookie.'"
      ]
     },
     "execution_count": 21,
     "metadata": {},
     "output_type": "execute_result"
    }
   ],
   "source": [
    "a='I thought of Cookie Monster '\n",
    "b='while eating a sugar cookie.'\n",
    "a+b"
   ]
  },
  {
   "cell_type": "code",
   "execution_count": 22,
   "id": "53bc694a-6379-4fa2-9d52-5fd64ceeb28e",
   "metadata": {},
   "outputs": [
    {
     "data": {
      "text/plain": [
       "'I am very much looking forward to learning python.'"
      ]
     },
     "execution_count": 22,
     "metadata": {},
     "output_type": "execute_result"
    }
   ],
   "source": [
    "a='I am very much '\n",
    "b='looking forward to '\n",
    "c='learning python.'\n",
    "a+b+c"
   ]
  },
  {
   "cell_type": "markdown",
   "id": "f5169dc9-c83e-47bc-9165-bfff12a2521b",
   "metadata": {},
   "source": [
    "## BONUS-- String appear 100 times"
   ]
  },
  {
   "cell_type": "code",
   "execution_count": 24,
   "id": "1128713b-e1e1-4b0e-8e3b-5cdcaf61823d",
   "metadata": {},
   "outputs": [
    {
     "name": "stdout",
     "output_type": "stream",
     "text": [
      "BONUSBONUSBONUSBONUSBONUSBONUSBONUSBONUSBONUSBONUSBONUSBONUSBONUSBONUSBONUSBONUSBONUSBONUSBONUSBONUSBONUSBONUSBONUSBONUSBONUSBONUSBONUSBONUSBONUSBONUSBONUSBONUSBONUSBONUSBONUSBONUSBONUSBONUSBONUSBONUSBONUSBONUSBONUSBONUSBONUSBONUSBONUSBONUSBONUSBONUSBONUSBONUSBONUSBONUSBONUSBONUSBONUSBONUSBONUSBONUSBONUSBONUSBONUSBONUSBONUSBONUSBONUSBONUSBONUSBONUSBONUSBONUSBONUSBONUSBONUSBONUSBONUSBONUSBONUSBONUSBONUSBONUSBONUSBONUSBONUSBONUSBONUSBONUSBONUSBONUSBONUSBONUSBONUSBONUSBONUSBONUSBONUSBONUSBONUSBONUS\n"
     ]
    }
   ],
   "source": [
    "print('BONUS' *100)"
   ]
  }
 ],
 "metadata": {
  "kernelspec": {
   "display_name": "Python 3 (ipykernel)",
   "language": "python",
   "name": "python3"
  },
  "language_info": {
   "codemirror_mode": {
    "name": "ipython",
    "version": 3
   },
   "file_extension": ".py",
   "mimetype": "text/x-python",
   "name": "python",
   "nbconvert_exporter": "python",
   "pygments_lexer": "ipython3",
   "version": "3.11.7"
  }
 },
 "nbformat": 4,
 "nbformat_minor": 5
}
